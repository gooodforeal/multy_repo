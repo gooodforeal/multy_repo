{
 "cells": [
  {
   "cell_type": "markdown",
   "id": "0995544c",
   "metadata": {},
   "source": [
    "Пример 1.2:\n",
    "Выведите на печать и определите тип переменной."
   ]
  },
  {
   "cell_type": "code",
   "execution_count": 1,
   "id": "64e624e8",
   "metadata": {},
   "outputs": [
    {
     "name": "stdout",
     "output_type": "stream",
     "text": [
      "39.4 | <class 'float'> \n",
      " None | <class 'NoneType'> \n",
      " ('a', 5, 12.345, (2, 'b')) | <class 'tuple'> \n",
      " [['Антонова Антонина', 34, 'ж'], ['Борисов Борис', 26, 'м']] | <class 'list'> \n",
      " {'title', 1, 2, 'content'} | <class 'set'> \n",
      "\n"
     ]
    }
   ],
   "source": [
    "x = 3+5.2*7\n",
    "y = None\n",
    "z = 'a', 5, 12.345, (2, 'b')\n",
    "df = [['Антонова Антонина', 34, 'ж'], [\"Борисов Борис\", 26, 'м']]\n",
    "A = {1, 'title', 2 , 'content'}\n",
    "print(x, '|', type(x),\"\\n\", y, '|', type(y), \"\\n\", z, '|', type(z), \"\\n\", df, '|', type(df), \"\\n\", A, '|', type(A), \"\\n\")"
   ]
  },
  {
   "cell_type": "markdown",
   "id": "8e47e4b7",
   "metadata": {},
   "source": [
    "Задание 1.3:\n",
    "Выведите на печать и определите тип переменной."
   ]
  },
  {
   "cell_type": "code",
   "execution_count": 2,
   "id": "ee345bc8",
   "metadata": {},
   "outputs": [
    {
     "name": "stdout",
     "output_type": "stream",
     "text": [
      "True | <class 'bool'> \n",
      " {8, 1, 3, 7} | <class 'set'> \n",
      " {2, 10, 'apple', 5} | <class 'set'> \n",
      " set() | <class 'set'> \n",
      " ('Антонова Антонина', 34, 'ж') | <class 'tuple'> \n",
      " type | <class 'str'> \n",
      " [1, 'title', 2, 'content'] | <class 'list'> \n",
      "\n"
     ]
    }
   ],
   "source": [
    "x = 5>= 2\n",
    "A = {1,3,7,8}\n",
    "B = {2,5,10, \"apple\"}\n",
    "C = A & B\n",
    "df = 'Антонова Антонина', 34, 'ж'\n",
    "Z = 'type'\n",
    "D = [1, 'title', 2 , 'content']\n",
    "print(x, '|', type(x),\"\\n\", A, '|', type(A), \"\\n\", B, '|', type(B), \"\\n\", C, '|', type(C), \"\\n\", df, '|', type(df), \"\\n\", Z, '|', type(Z), \"\\n\", D, '|', type(D), \"\\n\", )"
   ]
  },
  {
   "cell_type": "markdown",
   "id": "af0cd619",
   "metadata": {},
   "source": [
    "Пример 2.2:\n",
    "Вывести на экран является ли переменная х положительной,\n",
    "отрицательной или равна нулю."
   ]
  },
  {
   "cell_type": "code",
   "execution_count": 2,
   "id": "505cf4d5",
   "metadata": {},
   "outputs": [
    {
     "name": "stdout",
     "output_type": "stream",
     "text": [
      "x положительный\n"
     ]
    }
   ],
   "source": [
    "x = 125\n",
    "if  x  < 0:\n",
    "    print(\"x отрицательный\")\n",
    "elif x == 0:\n",
    "    print(\"x равен нулю\")\n",
    "else:\n",
    "    print(\"x положительный\")"
   ]
  },
  {
   "cell_type": "markdown",
   "id": "6cdda4c2",
   "metadata": {},
   "source": [
    "Задание 2.3:\n",
    "Напишите код. Задается х, напечатать какому из интервалов\n",
    "принадлежит: (-infinity, -5), [-5, 5] или от (5, +infinity)"
   ]
  },
  {
   "cell_type": "code",
   "execution_count": 3,
   "id": "04615db0",
   "metadata": {},
   "outputs": [
    {
     "name": "stdout",
     "output_type": "stream",
     "text": [
      "-5\n",
      "x принадлежит [-5, 5]\n"
     ]
    }
   ],
   "source": [
    "x = int(input())\n",
    "if  x  < -5:\n",
    "    print(\"x принадлежит (-infinity, -5)\")\n",
    "elif -5<=x<= 5:\n",
    "    print(\"x принадлежит [-5, 5]\")\n",
    "else:\n",
    "    print(\"x принадлежит (5, +infinity)\")"
   ]
  },
  {
   "cell_type": "markdown",
   "id": "2c0ef80a",
   "metadata": {},
   "source": [
    "Пример 3.2.1:\n",
    "Вывести все числа от 1 до 10 с шагом 3."
   ]
  },
  {
   "cell_type": "code",
   "execution_count": 3,
   "id": "43d03086",
   "metadata": {},
   "outputs": [
    {
     "name": "stdout",
     "output_type": "stream",
     "text": [
      "1\n",
      "4\n",
      "7\n",
      "10\n"
     ]
    }
   ],
   "source": [
    "x = 1\n",
    "while x <= 10:\n",
    "    print(x)\n",
    "    x+=3"
   ]
  },
  {
   "cell_type": "markdown",
   "id": "79eccb98",
   "metadata": {},
   "source": [
    "Пример 3.2.2:\n",
    "Задан список. Напечатать все элементы списка."
   ]
  },
  {
   "cell_type": "code",
   "execution_count": 4,
   "id": "78580f23",
   "metadata": {},
   "outputs": [
    {
     "name": "stdout",
     "output_type": "stream",
     "text": [
      "KNN\n",
      "decision tree\n",
      "linear model\n"
     ]
    }
   ],
   "source": [
    "models = ['KNN', 'decision tree', 'linear model']\n",
    "for model in models:\n",
    "    print(model)"
   ]
  },
  {
   "cell_type": "markdown",
   "id": "ae18039f",
   "metadata": {},
   "source": [
    "Пример 3.2.3:\n",
    "Создать список от 1 до 99 с шагом 7."
   ]
  },
  {
   "cell_type": "code",
   "execution_count": 5,
   "id": "cae2ed2a",
   "metadata": {},
   "outputs": [
    {
     "name": "stdout",
     "output_type": "stream",
     "text": [
      "[1, 8, 15, 22, 29, 36, 43, 50, 57, 64, 71, 78, 85, 92, 99]\n"
     ]
    }
   ],
   "source": [
    "list_int = range(1, 100, 7)\n",
    "print(list(list_int))"
   ]
  },
  {
   "cell_type": "markdown",
   "id": "b1d716b9",
   "metadata": {},
   "source": [
    "Пример 3.2.4:\n",
    "Вывести на экран числа от 1 до 105 с шагом 25, используя функцию\n",
    "range()."
   ]
  },
  {
   "cell_type": "code",
   "execution_count": 6,
   "id": "0a930838",
   "metadata": {},
   "outputs": [
    {
     "name": "stdout",
     "output_type": "stream",
     "text": [
      "1\n",
      "26\n",
      "51\n",
      "76\n",
      "101\n"
     ]
    }
   ],
   "source": [
    "for i in range(1, 106, 25):\n",
    "    print(i)"
   ]
  },
  {
   "cell_type": "markdown",
   "id": "286453c3",
   "metadata": {},
   "source": [
    "Пример 3.2.5:\n",
    "Срез. Необходимо получить каждый k-й элемент массива a, начиная с\n",
    "элемента с индексом i (включительно) и заканчивая элементом с\n",
    "индексом j (не включительно), c шагом 2. Или переставить все\n",
    "элементы в обратном порядке."
   ]
  },
  {
   "cell_type": "code",
   "execution_count": 7,
   "id": "64966213",
   "metadata": {},
   "outputs": [
    {
     "name": "stdout",
     "output_type": "stream",
     "text": [
      "[2, 4, 6]\n",
      "[9, 8, 7, 6, 5, 4, 3, 2, 1]\n"
     ]
    }
   ],
   "source": [
    "a = [1, 2, 3, 4, 5, 6, 7, 8, 9]\n",
    "b = a[1:7:2]\n",
    "c = a[::-1]\n",
    "print(b)\n",
    "print(c)\n"
   ]
  },
  {
   "cell_type": "markdown",
   "id": "50f51b8c",
   "metadata": {},
   "source": [
    "Задание 3.3.1:\n",
    "Выведите числа из примера на while (3.2.1) в обратном порядке."
   ]
  },
  {
   "cell_type": "code",
   "execution_count": 4,
   "id": "34823f40",
   "metadata": {},
   "outputs": [
    {
     "name": "stdout",
     "output_type": "stream",
     "text": [
      "10\n",
      "7\n",
      "4\n",
      "1\n"
     ]
    }
   ],
   "source": [
    "x = 10\n",
    "while x >= 1:\n",
    "    print(x)\n",
    "    x-=3"
   ]
  },
  {
   "cell_type": "markdown",
   "id": "218e5096",
   "metadata": {},
   "source": [
    "Задание 3.3.2:\n",
    "При решении задач машинного обучения часто в качестве объектов\n",
    "исследования выступает человек. Создайте список значимых\n",
    "характеристик (признаков), идентифицирующих человека. Выведите\n",
    "список на экран."
   ]
  },
  {
   "cell_type": "code",
   "execution_count": 5,
   "id": "b6fb9aa4",
   "metadata": {},
   "outputs": [
    {
     "name": "stdout",
     "output_type": "stream",
     "text": [
      "ИМЯ\n",
      "ФАМИЛИЯ\n",
      "ОТЧЕСТВО\n",
      "ДАТА РОЖДЕНИЯ\n",
      "ГОРОД\n"
     ]
    }
   ],
   "source": [
    "human = ['ИМЯ', 'ФАМИЛИЯ', 'ОТЧЕСТВО', 'ДАТА РОЖДЕНИЯ', 'ГОРОД']\n",
    "for i in human:\n",
    "    print(i)"
   ]
  },
  {
   "cell_type": "markdown",
   "id": "9fc920c1",
   "metadata": {},
   "source": [
    "Задание 3.3.3:\n",
    "Создать список чисел от 2 до 15 с шагом 1."
   ]
  },
  {
   "cell_type": "code",
   "execution_count": 6,
   "id": "b3c0bb4d",
   "metadata": {},
   "outputs": [
    {
     "name": "stdout",
     "output_type": "stream",
     "text": [
      "[2, 3, 4, 5, 6, 7, 8, 9, 10, 11, 12, 13, 14, 15]\n"
     ]
    }
   ],
   "source": [
    "x = range(2,16)\n",
    "print(list(x))"
   ]
  },
  {
   "cell_type": "markdown",
   "id": "91c52611",
   "metadata": {},
   "source": [
    "Задание 3.3.4:\n",
    "Выведите числа из примера на for c функцией range() (3.2.4) в\n",
    "обратном порядке."
   ]
  },
  {
   "cell_type": "code",
   "execution_count": 7,
   "id": "4d40558c",
   "metadata": {},
   "outputs": [
    {
     "name": "stdout",
     "output_type": "stream",
     "text": [
      "105\n",
      "80\n",
      "55\n",
      "30\n",
      "5\n"
     ]
    }
   ],
   "source": [
    "for i in range(105, 4, -25):\n",
    "    print(i)"
   ]
  },
  {
   "cell_type": "markdown",
   "id": "3aff78aa",
   "metadata": {},
   "source": [
    "Задание 3.3.5:\n",
    "Срез. Напишите код, который все элементы массива x с четными\n",
    "индексами переставит в обратном порядке. Т.е. если x = [0, 1, 2, 3, 4,\n",
    "5, 6, 7, 8, 9], то код должен сформировать [8, 1, 6, 3, 4, 5, 2, 7, 0, 9]."
   ]
  },
  {
   "cell_type": "code",
   "execution_count": 8,
   "id": "3b5c2142",
   "metadata": {},
   "outputs": [
    {
     "name": "stdout",
     "output_type": "stream",
     "text": [
      "[8, 1, 6, 3, 4, 5, 2, 7, 0, 9]\n"
     ]
    }
   ],
   "source": [
    "x = [0 , 1, 2, 3, 4, 5, 6, 7, 8, 9]\n",
    "x[0::2] = reversed(x[0::2])\n",
    "print(x)"
   ]
  },
  {
   "cell_type": "markdown",
   "id": "445de9e2",
   "metadata": {},
   "source": [
    "Пример 4.2.1:\n",
    "Рассчитать синус от е радиан и вывести результат на экран."
   ]
  },
  {
   "cell_type": "code",
   "execution_count": 8,
   "id": "ed4c1a04",
   "metadata": {},
   "outputs": [
    {
     "name": "stdout",
     "output_type": "stream",
     "text": [
      "0.41078129050290885\n"
     ]
    }
   ],
   "source": [
    "import math\n",
    "print(math.sin(math.e))"
   ]
  },
  {
   "cell_type": "markdown",
   "id": "d87a815b",
   "metadata": {},
   "source": [
    "Пример 4.2.2:\n",
    "Для функции sin(𝑥𝑒cos(𝑥)) на интервале [0;10] с шагом 0,05 построить\n",
    "график функции, закрасить площадь под ним и вычислить значение\n",
    "этой площади.\n",
    "Для вычисления площади воспользуйте функции trapz(), вычисляющей\n",
    "интеграл по правилу трапеции. Для ее корректной работы необходимо\n",
    "подключить следующие библиотеки:\n",
    "from scipy.integrate import simps\n",
    "from numpy import trapz"
   ]
  },
  {
   "cell_type": "code",
   "execution_count": 11,
   "id": "ca1f48f2",
   "metadata": {},
   "outputs": [
    {
     "name": "stdout",
     "output_type": "stream",
     "text": [
      "73.50792907748662\n"
     ]
    },
    {
     "data": {
      "image/png": "[encoded data removed]",
      "text/plain": [
       "<Figure size 640x480 with 1 Axes>"
      ]
     },
     "metadata": {},
     "output_type": "display_data"
    }
   ],
   "source": [
    "import numpy as np\n",
    "import matplotlib.pyplot as plt\n",
    "from numpy import trapz\n",
    "\n",
    "\n",
    "x = np.arange(0.0, 10, 0.1)\n",
    "y = np.abs(np.sin(x*np.exp(np.cos(x))))\n",
    "plt.grid()\n",
    "plt.plot(x, y, c = \"r\")\n",
    "plt.fill_between(x, y)\n",
    "area = trapz(y)\n",
    "print(area)"
   ]
  },
  {
   "cell_type": "markdown",
   "id": "fe7df408",
   "metadata": {},
   "source": [
    "Пример 4.2.3:\n",
    "Дано некоторое распределение оценок в группе за экзамен. Нарисовать\n",
    "круговую и точечную диаграммы распределения."
   ]
  },
  {
   "cell_type": "code",
   "execution_count": 12,
   "id": "9214c79a",
   "metadata": {},
   "outputs": [
    {
     "data": {
      "image/png": "[encoded data removed]",
      "text/plain": [
       "<Figure size 1000x700 with 1 Axes>"
      ]
     },
     "metadata": {},
     "output_type": "display_data"
    },
    {
     "data": {
      "text/plain": [
       "<matplotlib.collections.PathCollection at 0x2383b528f28>"
      ]
     },
     "execution_count": 12,
     "metadata": {},
     "output_type": "execute_result"
    },
    {
     "data": {
      "image/png": "[encoded data removed]",
      "text/plain": [
       "<Figure size 640x480 with 1 Axes>"
      ]
     },
     "metadata": {},
     "output_type": "display_data"
    }
   ],
   "source": [
    "from matplotlib import pyplot as plt\n",
    "import numpy as np\n",
    "\n",
    "\n",
    "marks = [\"Неуд\", \"Удовл\", \"Хор\", \"Отл\"]\n",
    "data = [3, 7, 8, 4]\n",
    "fig = plt.figure(figsize = (10, 7))\n",
    "plt.pie(data, labels=marks)\n",
    "plt.show()\n",
    "plt.grid()\n",
    "plt.scatter(marks, data)"
   ]
  },
  {
   "cell_type": "markdown",
   "id": "e883115d",
   "metadata": {},
   "source": [
    "Задание 4.3.1:\n",
    "Задайте массив случайных значений из интервала(0; 1).\n",
    "Рассчитайте средние и медианные значения для массива, сравните\n",
    "результаты, какие выводы можно сделать о значениях?\n",
    "Постройте точечную диаграмму рассения полученного ряда."
   ]
  },
  {
   "cell_type": "code",
   "execution_count": 9,
   "id": "52d758c4",
   "metadata": {},
   "outputs": [
    {
     "name": "stdout",
     "output_type": "stream",
     "text": [
      "Массив:  [0.7784691898919122, 0.8790576112176953, 0.6182522203792052, 0.8283851290590958, 0.23418392063674032, 0.9912613776652647, 0.8231997946024466, 0.36782540956280485, 0.5992450706642007, 0.5014025479029073, 0.053667692926988364, 0.7503202277313196]\n",
      "\n",
      "Сорт. массив: [0.053667692926988364, 0.23418392063674032, 0.36782540956280485, 0.5014025479029073, 0.5992450706642007, 0.6182522203792052, 0.7503202277313196, 0.7784691898919122, 0.8231997946024466, 0.8283851290590958, 0.8790576112176953, 0.9912613776652647]\n",
      "\n",
      "Среднее арифметическое: 0.6187725160200485\n",
      "\n",
      "Медианное значение:  0.6842862240552624\n"
     ]
    },
    {
     "data": {
      "text/plain": [
       "<Figure size 720x504 with 0 Axes>"
      ]
     },
     "metadata": {},
     "output_type": "display_data"
    },
    {
     "data": {
      "text/plain": [
       "<matplotlib.collections.PathCollection at 0xa9dfb80>"
      ]
     },
     "execution_count": 9,
     "metadata": {},
     "output_type": "execute_result"
    },
    {
     "data": {
      "image/png": "[encoded data removed]",
      "text/plain": [
       "<Figure size 432x288 with 1 Axes>"
      ]
     },
     "metadata": {
      "needs_background": "light"
     },
     "output_type": "display_data"
    }
   ],
   "source": [
    "import random\n",
    "from statistics import mean\n",
    "from matplotlib import pyplot as plt\n",
    "\n",
    "\n",
    "x= [random.uniform(0, 1) for i in range(12)]\n",
    "print(\"Массив: \", x)\n",
    "x.sort()\n",
    "print(\"\\nСорт. массив:\", x)\n",
    "print(\"\\nСреднее арифметическое:\", mean(x))\n",
    "print(\"\\nМедианное значение: \", (x[5]+x[6])/2)\n",
    "y = [i for i in range(12)] \n",
    "fig = plt.figure(figsize=(10,7))\n",
    "plt.show()\n",
    "plt.grid()\n",
    "plt.scatter(y, x)"
   ]
  },
  {
   "cell_type": "markdown",
   "id": "a5967c02",
   "metadata": {},
   "source": [
    "Задание 4.3.2:\n",
    "Дана функция. Создать массив из 10 значений\n",
    "функции (𝑥, например, изменяется от 1 до 10). Выделить срез первой\n",
    "половины массива и построить графики для основного массива –\n",
    "линейный и для среза – точечный."
   ]
  },
  {
   "cell_type": "code",
   "execution_count": 10,
   "id": "63ad5dfd",
   "metadata": {},
   "outputs": [
    {
     "data": {
      "image/png": "[encoded data removed]",
      "text/plain": [
       "<Figure size 432x288 with 1 Axes>"
      ]
     },
     "metadata": {
      "needs_background": "light"
     },
     "output_type": "display_data"
    }
   ],
   "source": [
    "import math\n",
    "from matplotlib import pyplot as plt\n",
    "\n",
    "\n",
    "x = [i for i in range(1,11)]\n",
    "y = [((math.sqrt(1+math.exp(i)) + pow(math.cos(i), 2))/(1-pow(math.sin(i), 3))) + abs(math.log(2*i)) for i in range(1,11)]\n",
    "x1 = x[0:5:]\n",
    "x2 = x[5:10:]\n",
    "y1 = y[0:5:]\n",
    "y2 = y[5:10:]\n",
    "plt.scatter(x1,y1)\n",
    "plt.plot(x,y)\n",
    "plt.show()"
   ]
  },
  {
   "cell_type": "markdown",
   "id": "c542c23f",
   "metadata": {},
   "source": [
    "Задание 4.3.3:\n",
    "Дана функция |cos(𝑥𝑒(cos(𝑥)+ln(𝑥+1)))| Построить график на\n",
    "интервале (0,10) с шагом 1 с заливкой площади и найти эту площадь\n",
    "под ним. Для вычисления площади воспользуйте функции trapz(),\n",
    "вычисляющей интеграл по правилу трапеции.\n",
    "Для ее корректной работы необходимо подключить следующие\n",
    "библиотеки:\n",
    "from scipy.integrate import simps\n",
    "from numpy import trapz"
   ]
  },
  {
   "cell_type": "code",
   "execution_count": 11,
   "id": "d065bf1c",
   "metadata": {},
   "outputs": [
    {
     "name": "stdout",
     "output_type": "stream",
     "text": [
      "6.260345875494747\n"
     ]
    },
    {
     "data": {
      "image/png": "[encoded data removed]",
      "text/plain": [
       "<Figure size 432x288 with 1 Axes>"
      ]
     },
     "metadata": {
      "needs_background": "light"
     },
     "output_type": "display_data"
    }
   ],
   "source": [
    "import math\n",
    "from matplotlib import pyplot as plt\n",
    "from scipy.integrate import simps\n",
    "from numpy import trapz\n",
    "\n",
    "\n",
    "x = [i for i in range(1,11)]\n",
    "y = [abs(math.cos(i*math.exp(math.cos(i)+math.log1p(i)))) for i in range(0,10)]\n",
    "plt.grid()\n",
    "plt.plot(x,y)\n",
    "plt.fill_between(x,y)\n",
    "area = trapz(y)\n",
    "print(area)"
   ]
  },
  {
   "cell_type": "markdown",
   "id": "2b6302c8",
   "metadata": {},
   "source": [
    "Задание 4.3.4:\n",
    "Откройте статистические данные по стоимости акций Apple,\n",
    "Microsoft, Google за 12 месяцев 2021 г. Постройте 3 графика на\n",
    "плоскости и оцените их динамику. Подумайте, как можно улучшить\n",
    "читаемость результатов.\n",
    "Для начальных данных допустимо использовать следующий ресурс:\n",
    "https://finance.yahoo.com"
   ]
  },
  {
   "cell_type": "code",
   "execution_count": 12,
   "id": "c0b88d2b",
   "metadata": {},
   "outputs": [
    {
     "data": {
      "image/png": "[encoded data removed]",
      "text/plain": [
       "<Figure size 432x288 with 1 Axes>"
      ]
     },
     "metadata": {
      "needs_background": "light"
     },
     "output_type": "display_data"
    },
    {
     "name": "stdout",
     "output_type": "stream",
     "text": [
      "Red - Apple\n",
      "Green - Microsoft\n",
      "Blue - Google\n"
     ]
    }
   ],
   "source": [
    "import math\n",
    "from matplotlib import pyplot as plt\n",
    "\n",
    "\n",
    "x = [i for i in range(1,13)]\n",
    "apple = [131.96, 121.26, 122.15, 131.46, 124.61, 136.96, 145.86, 151.83, 141.50, 149.80, 165.30, 177.57]\n",
    "microsoft = [231.96, 232.38, 235.77, 252.18, 249.68, 270.90, 284.91, 301.88, 281.92, 331.62, 330.59, 336.32]\n",
    "google = [91.79, 101.84, 103.43, 120.51, 120.58, 125.32, 135.22, 145.46, 133.27, 148.27, 142.45, 144.68]\n",
    "plt.plot(x, apple, c='r')\n",
    "plt.plot(x, microsoft, c='g')\n",
    "plt.plot(x, google, c='b')\n",
    "plt.grid()\n",
    "plt.show()\n",
    "print(\"Red - Apple\\nGreen - Microsoft\\nBlue - Google\")"
   ]
  },
  {
   "cell_type": "markdown",
   "id": "407bde7e",
   "metadata": {},
   "source": [
    "Задание 4.3.5:\n",
    "Создайте простейший калькулятор, включающий основные действия\n",
    "для двух переменных ′ + ′, ′ − ′, ′ ∙ ′, ′ ÷ ′, а также вычисление\n",
    "следующих функций: 𝑒𝑥+𝑦, sin(𝑥 + 𝑦) , cos(𝑥 + 𝑦) , 𝑥𝑦."
   ]
  },
  {
   "cell_type": "code",
   "execution_count": 18,
   "id": "56a2d56f",
   "metadata": {},
   "outputs": [
    {
     "name": "stdout",
     "output_type": "stream",
     "text": [
      "3\n",
      "5\n",
      "5\n",
      "2980.9579870417283\n"
     ]
    }
   ],
   "source": [
    "import math\n",
    "\n",
    "\n",
    "x = float(input())\n",
    "y = float(input())\n",
    "operation_choose = int(input())\n",
    "operation ={\n",
    "    1: x+y,\n",
    "    2: x-y,\n",
    "    3: x*y,\n",
    "    4: x/y,\n",
    "    5: math.exp(x+y),\n",
    "    6: math.sin(x+y),\n",
    "    7: math.cos(x+y),\n",
    "    8: pow(x,y)\n",
    "    }\n",
    "print(operation.get(operation_choose,'Error)'))"
   ]
  }
 ],
 "metadata": {
  "kernelspec": {
   "display_name": "Python 3 (ipykernel)",
   "language": "python",
   "name": "python3"
  },
  "language_info": {
   "codemirror_mode": {
    "name": "ipython",
    "version": 3
   },
   "file_extension": ".py",
   "mimetype": "text/x-python",
   "name": "python",
   "nbconvert_exporter": "python",
   "pygments_lexer": "ipython3",
   "version": "3.7.0"
  }
 },
 "nbformat": 4,
 "nbformat_minor": 5
}
